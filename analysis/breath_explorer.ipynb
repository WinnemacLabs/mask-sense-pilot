version https://git-lfs.github.com/spec/v1
oid sha256:87ef17c5ee26415f147e5243755a5723b7848c5220ea11cc9842e52b7b7d3345
size 107679
