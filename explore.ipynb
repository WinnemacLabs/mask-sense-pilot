{
 "cells": [
  {
   "cell_type": "code",
   "execution_count": null,
   "id": "54c9010e",
   "metadata": {
    "vscode": {
     "languageId": "plaintext"
    }
   },
   "outputs": [],
   "source": [
    "import seaborn as sns, matplotlib.pyplot as plt\n",
    "\n",
    "sns.scatterplot(data=df, x='Pa_Horizontal_mean', y='logPF', hue='source_file')\n",
    "plt.axvline(0, ls='--', c='k'); plt.show()"
   ]
  }
 ],
 "metadata": {
  "language_info": {
   "name": "python"
  }
 },
 "nbformat": 4,
 "nbformat_minor": 5
}
